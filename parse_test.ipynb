{
 "cells": [
  {
   "cell_type": "code",
   "execution_count": 1,
   "metadata": {},
   "outputs": [],
   "source": [
    "import pandas as pd\n",
    "# import gff3_parser\n",
    "import gffpandas.gffpandas as gffpd"
   ]
  },
  {
   "cell_type": "code",
   "execution_count": 2,
   "metadata": {},
   "outputs": [],
   "source": [
    "# D:/prodata/phrog/AB036666.csv\n",
    "add_path = 'D:/project/'\n",
    "phrogs = pd.read_csv(f\"{add_path}data/phrog/AB036666.csv\")\n",
    "phrogs = phrogs.rename(columns={\"prot_id\": \"ID\"})"
   ]
  },
  {
   "cell_type": "code",
   "execution_count": 3,
   "metadata": {},
   "outputs": [],
   "source": [
    "# gff_data = gff3_parser.parse_gff3(\"data/gff/AB036666.gff\", parse_attributes = True)\n",
    "# print(gff_data)\n",
    "# gff_data = gffpd.read_gff3(f\"{add_path}data/gff/AB036666.gff\").attributes_to_columns()\n",
    "gff_data = gffpd.read_gff3(f\"{add_path}data/gff/AB036666.gff\").attributes_to_columns()"
   ]
  },
  {
   "cell_type": "code",
   "execution_count": 4,
   "metadata": {},
   "outputs": [
    {
     "name": "stdout",
     "output_type": "stream",
     "text": [
      "joker phrog_2199 phrog_239 phrog_21102 phrog_25990 joker phrog_18320 phrog_498 phrog_57 phrog_9049 phrog_15 phrog_75 phrog_22762 phrog_22762 phrog_21 phrog_53 phrog_49 phrog_29 phrog_7787 phrog_27 phrog_1072 phrog_9992 phrog_281 phrog_43 phrog_4226 phrog_17612 phrog_9262 phrog_9262 phrog_11806 phrog_95 joker joker joker phrog_16592\n"
     ]
    }
   ],
   "source": [
    "# merge dfs, left unmatched (bigger df as base in 'how', merge on IDs)\n",
    "df_phrogs = pd.merge(phrogs, gff_data, how=\"right\", on=\"ID\")[[\"ID\", \"hmm_id\", \"seq_id\", \"start\", \"end\", \"strand\"]]\n",
    "df_phrogs.fillna(\"joker\", inplace=True)\n",
    "\n",
    "# reverse phrogs from minus strand\n",
    "# df_phrogs = df_phrogs.groupby('strand', group_keys=False).apply(lambda x: x.iloc[::-1] if x[\"strand\"].iloc[0] == \"-\" else x)\n",
    "# df_phrogs\n",
    "# df_phrogs.iloc[3:6][::-1]\n",
    "# df_phrogs.where(df_phrogs[\"strand\"] == '-')\n",
    "# df_phrogs.loc[df_phrogs['strand'] == \"-\"].index\n",
    "g = df_phrogs.groupby((df_phrogs['strand'].shift() != df_phrogs[\"strand\"]).cumsum())\n",
    "names = g.apply(lambda x: x.iloc[::-1] if x[\"strand\"].iloc[0] == \"-\" else x)['hmm_id'].to_list()\n",
    "line = ' '.join(names)\n",
    "print(line)\n",
    "# for k, v in g:\n",
    "#     print(f'[group {k}]')\n",
    "#     # print(v)\n",
    "#     # print(type(v))\n",
    "#     # print(v['hmm_id'].to_list())\n",
    "#     print(v[\"strand\"] == \"-\")\n",
    "#     print(type(g))\n",
    "# df_phrogs\n",
    "\n"
   ]
  }
 ],
 "metadata": {
  "kernelspec": {
   "display_name": "Python 3.8.10 64-bit",
   "language": "python",
   "name": "python3"
  },
  "language_info": {
   "codemirror_mode": {
    "name": "ipython",
    "version": 3
   },
   "file_extension": ".py",
   "mimetype": "text/x-python",
   "name": "python",
   "nbconvert_exporter": "python",
   "pygments_lexer": "ipython3",
   "version": "3.8.10"
  },
  "orig_nbformat": 4,
  "vscode": {
   "interpreter": {
    "hash": "cfc7ccaff3308027efdd686ca686870ab3a830004d2aeb8058f9986d263ac995"
   }
  }
 },
 "nbformat": 4,
 "nbformat_minor": 2
}
